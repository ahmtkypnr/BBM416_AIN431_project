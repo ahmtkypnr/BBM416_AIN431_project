{
 "cells": [
  {
   "cell_type": "code",
   "execution_count": null,
   "id": "c672af4d",
   "metadata": {},
   "outputs": [],
   "source": [
    "from torchvision.io import read_image\n",
    "from torchvision.utils import draw_bounding_boxes, save_image\n",
    "import torch\n",
    "import os"
   ]
  },
  {
   "cell_type": "code",
   "execution_count": null,
   "id": "42fcf06e",
   "metadata": {},
   "outputs": [],
   "source": [
    "def denorm_xywh(xywh, W, H):\n",
    "    x,y,w_,h_ = xywh\n",
    "    x1 = (x - w_/2)*W; y1 = (y - h_/2)*H\n",
    "    x2 = (x + w_/2)*W; y2 = (y + h_/2)*H\n",
    "    return [int(x1), int(y1), int(x2), int(y2)]"
   ]
  },
  {
   "cell_type": "code",
   "execution_count": null,
   "id": "e74d817e",
   "metadata": {},
   "outputs": [],
   "source": [
    "def load_gt(path, W, H, class_names, valid_cls):\n",
    "    boxes, labels = [], []\n",
    "    if not os.path.exists(path):\n",
    "        return boxes, labels\n",
    "    for line in open(path):\n",
    "        cls, *xywh = line.strip().split()\n",
    "        cls = int(cls)\n",
    "        if cls not in valid_cls: \n",
    "            continue\n",
    "        box = denorm_xywh(list(map(float, xywh)), W, H)\n",
    "        boxes.append(box)\n",
    "        labels.append(class_names[cls])\n",
    "    return boxes, labels"
   ]
  },
  {
   "cell_type": "code",
   "execution_count": null,
   "id": "c0dc9616",
   "metadata": {},
   "outputs": [],
   "source": [
    "def get_preds(res, class_names, valid_cls):\n",
    "    boxes, labels = [], []\n",
    "    for x1, y1, x2, y2, conf, cls in res:\n",
    "        cls = int(cls)\n",
    "        if cls not in valid_cls: \n",
    "            continue\n",
    "        boxes.append([int(x1),int(y1),int(x2),int(y2)])\n",
    "        labels.append(class_names[cls])\n",
    "    return boxes, labels"
   ]
  },
  {
   "cell_type": "code",
   "execution_count": null,
   "id": "1ed7dd9a",
   "metadata": {},
   "outputs": [],
   "source": [
    "def create_output(images_path, labels_path, model, img_extension=\".png\"):\n",
    "    # assume both models share the same names dict\n",
    "    class_names = model.model.names\n",
    "    valid_cls = set(class_names.keys())\n",
    "\n",
    "    cwd = os.getcwd()\n",
    "    gt_images_path = os.path.join(cwd, \"gt_images\")\n",
    "    pred_images_path = os.path.join(cwd, \"pred_images\")\n",
    "    os.mkdir(gt_images_path)\n",
    "    os.mkdir(pred_images_path)\n",
    "\n",
    "    for filename in os.listdir(images_path):\n",
    "        img_path = os.path.join(images_path, filename)\n",
    "        img_tensor = read_image(img_path)\n",
    "\n",
    "        boxes, labels = load_gt(os.path.join(labels_path, filename.replace(img_extension, \".txt\")), 1280, 720, class_names, valid_cls)\n",
    "        result_img = draw_bounding_boxes(img_tensor, boxes=torch.tensor(boxes), labels=labels, colors=\"blue\", width=3)\n",
    "        save_image(result_img.float()/255, os.path.join(gt_images_path, filename))\n",
    "\n",
    "        res = model(os.path.join(images_path, filename), imgsz=1280, verbose=False)[0].boxes.data.tolist()\n",
    "        boxes, labels = get_preds(res, class_names, valid_cls)\n",
    "        result_img = draw_bounding_boxes(img_tensor, boxes=torch.tensor(boxes), labels=labels, colors=\"red\", width=3)\n",
    "        save_image(result_img.float()/255, os.path.join(pred_images_path, filename))"
   ]
  }
 ],
 "metadata": {
  "kernelspec": {
   "display_name": "Python 3",
   "language": "python",
   "name": "python3"
  },
  "language_info": {
   "codemirror_mode": {
    "name": "ipython",
    "version": 3
   },
   "file_extension": ".py",
   "mimetype": "text/x-python",
   "name": "python",
   "nbconvert_exporter": "python",
   "pygments_lexer": "ipython3",
   "version": "3.9.13"
  }
 },
 "nbformat": 4,
 "nbformat_minor": 5
}
